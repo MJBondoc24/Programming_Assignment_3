{
 "cells": [
  {
   "cell_type": "markdown",
   "id": "5103334c-e4b0-4ef7-9378-17ab4c669cef",
   "metadata": {},
   "source": [
    "# Problem 2"
   ]
  },
  {
   "cell_type": "code",
   "execution_count": 3,
   "id": "70a3f148-7d51-4dbc-ab23-6a95054fdeca",
   "metadata": {},
   "outputs": [],
   "source": [
    "import pandas as pd"
   ]
  },
  {
   "cell_type": "code",
   "execution_count": 4,
   "id": "a444105e-fbf1-4d2a-bd87-4596cd1f0e57",
   "metadata": {},
   "outputs": [],
   "source": [
    "df = pd.read_csv(\"cars.csv\")"
   ]
  },
  {
   "cell_type": "markdown",
   "id": "6f648b85-b2a0-49c0-92b2-3aed09fefc46",
   "metadata": {},
   "source": [
    "# Problem a."
   ]
  },
  {
   "cell_type": "markdown",
   "id": "27425bc6-cc00-4829-8d39-dac13c4cf4b9",
   "metadata": {},
   "source": [
    "## We list the first 5 odd rows in their own dictionary and print it using df.iloc[rows]."
   ]
  },
  {
   "cell_type": "code",
   "execution_count": 46,
   "id": "bc07332d-7221-4b7f-bfeb-920567630146",
   "metadata": {},
   "outputs": [],
   "source": [
    "rows = [0,2,4,6,8]"
   ]
  },
  {
   "cell_type": "code",
   "execution_count": 29,
   "id": "f7ae30aa-3760-4ae8-8401-f301b0f2ddc2",
   "metadata": {
    "scrolled": true
   },
   "outputs": [
    {
     "name": "stdout",
     "output_type": "stream",
     "text": [
      "               Model   mpg  cyl   disp   hp  drat    wt   qsec  vs  am  gear  \\\n",
      "0          Mazda RX4  21.0    6  160.0  110  3.90  2.62  16.46   0   1     4   \n",
      "2         Datsun 710  22.8    4  108.0   93  3.85  2.32  18.61   1   1     4   \n",
      "4  Hornet Sportabout  18.7    8  360.0  175  3.15  3.44  17.02   0   0     3   \n",
      "6         Duster 360  14.3    8  360.0  245  3.21  3.57  15.84   0   0     3   \n",
      "8           Merc 230  22.8    4  140.8   95  3.92  3.15  22.90   1   0     4   \n",
      "\n",
      "   carb  \n",
      "0     4  \n",
      "2     1  \n",
      "4     2  \n",
      "6     4  \n",
      "8     2  \n"
     ]
    }
   ],
   "source": [
    "print(df.iloc[rows])"
   ]
  },
  {
   "cell_type": "markdown",
   "id": "1f6485dd-716a-4d6e-86e1-f3cbd808cdcf",
   "metadata": {},
   "source": [
    "# Problem b."
   ]
  },
  {
   "cell_type": "markdown",
   "id": "1eb7fbf2-a69f-495f-b407-6ac24bc5f8fa",
   "metadata": {},
   "source": [
    "## We print the Model, Mazda RX4, directly from the file given named \"Cars.csv\" to search for its name and its model with df[df[value name 1] == value name 2]. "
   ]
  },
  {
   "cell_type": "code",
   "execution_count": 45,
   "id": "60859b4c-10a2-43c2-bf66-9c6aa1a97ebc",
   "metadata": {},
   "outputs": [
    {
     "name": "stdout",
     "output_type": "stream",
     "text": [
      "\n",
      "Row for Mazda RX4: \n",
      "        Model   mpg  cyl   disp   hp  drat    wt   qsec  vs  am  gear  carb\n",
      "0  Mazda RX4  21.0    6  160.0  110   3.9  2.62  16.46   0   1     4     4\n"
     ]
    }
   ],
   "source": [
    "print(\"\\nRow for Mazda RX4: \\n\", df[df['Model'] == 'Mazda RX4'])"
   ]
  },
  {
   "cell_type": "markdown",
   "id": "b8ad1dbe-60ca-4b3e-b6a4-a00c3bb6e870",
   "metadata": {},
   "source": [
    "# Problem c."
   ]
  },
  {
   "cell_type": "markdown",
   "id": "2194c1ef-008a-421c-8703-4873193483af",
   "metadata": {},
   "source": [
    "## It's the same as Problem b.. But instead, we put its code in its own dictionary and add \".value[0]\" at the end to get the value of the cylinder of the Camaro Z28."
   ]
  },
  {
   "cell_type": "code",
   "execution_count": 49,
   "id": "f6c8fe7b-ec7b-486d-ac45-9a2d4d781f41",
   "metadata": {},
   "outputs": [],
   "source": [
    "cylinders = df.loc[df['Model'] == 'Camaro Z28', 'cyl'].values[0]"
   ]
  },
  {
   "cell_type": "markdown",
   "id": "3459b52a-ab34-4a07-ada8-f7cf7f4bdd77",
   "metadata": {},
   "source": [
    "## Then we print the sentence \"Camero Z28 has -------- cylinders.\" with the word \"cylinder in it, so the result for the vlaue of the cylinder will show. "
   ]
  },
  {
   "cell_type": "code",
   "execution_count": 50,
   "id": "46e03c9c-6fd0-4948-92e1-3328ee5880a2",
   "metadata": {},
   "outputs": [
    {
     "name": "stdout",
     "output_type": "stream",
     "text": [
      "\n",
      "Camero Z28 has 8 cylinders.\n"
     ]
    }
   ],
   "source": [
    "print(f\"\\nCamero Z28 has {cylinders} cylinders.\")"
   ]
  },
  {
   "cell_type": "markdown",
   "id": "3263b751-fc1a-49a9-863c-704a26efdb6e",
   "metadata": {},
   "source": [
    "# Problem d."
   ]
  },
  {
   "cell_type": "markdown",
   "id": "0aa7ffa9-ede9-49a6-8519-e020c056eff4",
   "metadata": {},
   "source": [
    "## We added the required cars, Mazda RX4 Wag, Ford Pantera L, and Honda Civic, to its own dictionary."
   ]
  },
  {
   "cell_type": "code",
   "execution_count": 52,
   "id": "b0a3b76c-a3e9-442c-beb8-f4afd4e937ab",
   "metadata": {},
   "outputs": [],
   "source": [
    "models = ('Mazda RX4 Wag', 'Ford Pantera L', 'Honda Civic')"
   ]
  },
  {
   "cell_type": "markdown",
   "id": "853884c9-7b0c-4dde-b424-6f0acf0be235",
   "metadata": {},
   "source": [
    "## Then we add all the codes we used from the previous problems to make this possible. With inputting the sentence first and adding df.isin to check the models list from the dictionary, and add the required values( Model, Cyl, and Gear) "
   ]
  },
  {
   "cell_type": "code",
   "execution_count": 56,
   "id": "ed5f6fa1-cbee-4527-90e1-c7799a15a428",
   "metadata": {},
   "outputs": [
    {
     "name": "stdout",
     "output_type": "stream",
     "text": [
      "\n",
      "Cylinders and gears for specific models: \n",
      "              Model  cyl  gear\n",
      "1    Mazda RX4 Wag    6     4\n",
      "18     Honda Civic    4     4\n",
      "28  Ford Pantera L    8     5\n"
     ]
    }
   ],
   "source": [
    "print(\"\\nCylinders and gears for specific models: \\n\", df[df['Model'].isin(models)][['Model', 'cyl', 'gear']])"
   ]
  }
 ],
 "metadata": {
  "kernelspec": {
   "display_name": "Python 3 (ipykernel)",
   "language": "python",
   "name": "python3"
  },
  "language_info": {
   "codemirror_mode": {
    "name": "ipython",
    "version": 3
   },
   "file_extension": ".py",
   "mimetype": "text/x-python",
   "name": "python",
   "nbconvert_exporter": "python",
   "pygments_lexer": "ipython3",
   "version": "3.13.5"
  }
 },
 "nbformat": 4,
 "nbformat_minor": 5
}

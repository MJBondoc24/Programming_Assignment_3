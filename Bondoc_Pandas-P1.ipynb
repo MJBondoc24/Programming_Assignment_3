{
 "cells": [
  {
   "cell_type": "markdown",
   "id": "4e7aa931-628a-4554-9ce6-3326ad520818",
   "metadata": {},
   "source": [
    "# Problem 1"
   ]
  },
  {
   "cell_type": "markdown",
   "id": "33218e8e-f818-4c6d-989c-e49b62fdad0b",
   "metadata": {},
   "source": [
    "## pandas first needs to be installed into the Jupyter notebook, and have the file \"Cars.csv\" in the dictionary as well."
   ]
  },
  {
   "cell_type": "code",
   "execution_count": null,
   "id": "4a7cc567-ede3-4c57-a8ef-ea9d8053a7ef",
   "metadata": {},
   "outputs": [],
   "source": [
    "import pandas as pd"
   ]
  },
  {
   "cell_type": "code",
   "execution_count": 10,
   "id": "7dd7f78c-65dd-4442-b6f1-0a047a27d437",
   "metadata": {},
   "outputs": [],
   "source": [
    "df = pd.read_csv(\"Cars.csv\")"
   ]
  },
  {
   "cell_type": "markdown",
   "id": "0594257b-0674-4b8c-be82-cd2e7ebbe6fd",
   "metadata": {},
   "source": [
    "## We print the first five rows with df.head() and the last row with df.foot() ."
   ]
  },
  {
   "cell_type": "code",
   "execution_count": 18,
   "id": "cc551e4b-05b9-404d-97d7-72ef09341032",
   "metadata": {},
   "outputs": [
    {
     "name": "stdout",
     "output_type": "stream",
     "text": [
      "first five rows: \n",
      "                Model   mpg  cyl   disp   hp  drat     wt   qsec  vs  am  gear  \\\n",
      "0          Mazda RX4  21.0    6  160.0  110  3.90  2.620  16.46   0   1     4   \n",
      "1      Mazda RX4 Wag  21.0    6  160.0  110  3.90  2.875  17.02   0   1     4   \n",
      "2         Datsun 710  22.8    4  108.0   93  3.85  2.320  18.61   1   1     4   \n",
      "3     Hornet 4 Drive  21.4    6  258.0  110  3.08  3.215  19.44   1   0     3   \n",
      "4  Hornet Sportabout  18.7    8  360.0  175  3.15  3.440  17.02   0   0     3   \n",
      "\n",
      "   carb  \n",
      "0     4  \n",
      "1     4  \n",
      "2     1  \n",
      "3     1  \n",
      "4     2  \n"
     ]
    }
   ],
   "source": [
    "print(\"First five rows: \\n\", df.head())"
   ]
  },
  {
   "cell_type": "code",
   "execution_count": 19,
   "id": "e14cd959-2a00-4dc4-b92d-88df1f1e4d8b",
   "metadata": {},
   "outputs": [
    {
     "name": "stdout",
     "output_type": "stream",
     "text": [
      "Last five rows: \n",
      "              Model   mpg  cyl   disp   hp  drat     wt  qsec  vs  am  gear  \\\n",
      "27    Lotus Europa  30.4    4   95.1  113  3.77  1.513  16.9   1   1     5   \n",
      "28  Ford Pantera L  15.8    8  351.0  264  4.22  3.170  14.5   0   1     5   \n",
      "29    Ferrari Dino  19.7    6  145.0  175  3.62  2.770  15.5   0   1     5   \n",
      "30   Maserati Bora  15.0    8  301.0  335  3.54  3.570  14.6   0   1     5   \n",
      "31      Volvo 142E  21.4    4  121.0  109  4.11  2.780  18.6   1   1     4   \n",
      "\n",
      "    carb  \n",
      "27     2  \n",
      "28     4  \n",
      "29     6  \n",
      "30     8  \n",
      "31     2  \n"
     ]
    }
   ],
   "source": [
    "print(\"Last five rows: \\n\", df.tail())"
   ]
  }
 ],
 "metadata": {
  "kernelspec": {
   "display_name": "Python 3 (ipykernel)",
   "language": "python",
   "name": "python3"
  },
  "language_info": {
   "codemirror_mode": {
    "name": "ipython",
    "version": 3
   },
   "file_extension": ".py",
   "mimetype": "text/x-python",
   "name": "python",
   "nbconvert_exporter": "python",
   "pygments_lexer": "ipython3",
   "version": "3.13.5"
  }
 },
 "nbformat": 4,
 "nbformat_minor": 5
}
